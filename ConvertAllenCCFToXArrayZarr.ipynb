{
 "cells": [
  {
   "cell_type": "code",
   "execution_count": 1,
   "metadata": {},
   "outputs": [
    {
     "name": "stderr",
     "output_type": "stream",
     "text": [
      "You are using pip version 9.0.1, however version 20.2.2 is available.\n",
      "You should consider upgrading via the 'python -m pip install --upgrade pip' command.\n"
     ]
    }
   ],
   "source": [
    "import sys\n",
    "!{sys.executable} -m pip install xarray zarr itk>=5.1 dask[array] toolz itkwidgets"
   ]
  },
  {
   "cell_type": "code",
   "execution_count": 2,
   "metadata": {},
   "outputs": [],
   "source": [
    "import itk\n",
    "import xarray as xr\n",
    "import numpy as np\n",
    "from numcodecs import Blosc, blosc\n",
    "import zarr\n",
    "from urllib.request import urlretrieve\n",
    "import os\n",
    "\n",
    "from itkwidgets import view, compare"
   ]
  },
  {
   "cell_type": "code",
   "execution_count": 3,
   "metadata": {},
   "outputs": [],
   "source": [
    "ccf_filename = '1.nii.gz'\n",
    "dataset_name = 'miqaSample1'\n",
    "store_name = 'miqaSample1.zarr'\n",
    "units = 'mm'"
   ]
  },
  {
   "cell_type": "code",
   "execution_count": 4,
   "metadata": {},
   "outputs": [],
   "source": [
    "image = itk.imread(ccf_filename)"
   ]
  },
  {
   "cell_type": "code",
   "execution_count": 5,
   "metadata": {},
   "outputs": [
    {
     "data": {
      "application/vnd.jupyter.widget-view+json": {
       "model_id": "5d5fc8d194bf4d3f84a3e15e9a164f05",
       "version_major": 2,
       "version_minor": 0
      },
      "text/plain": [
       "Viewer(geometries=[], gradient_opacity=0.1, point_sets=[], rendered_image=<itk.itkImagePython.itkImageSS3; pro…"
      ]
     },
     "metadata": {},
     "output_type": "display_data"
    }
   ],
   "source": [
    "view(image, vmax=300, gradient_opacity=0.1, units='mm')"
   ]
  },
  {
   "cell_type": "code",
   "execution_count": 6,
   "metadata": {},
   "outputs": [
    {
     "name": "stdout",
     "output_type": "stream",
     "text": [
      "itkSize3 ([160, 192, 192])\n",
      "itkVectorD3 ([1, 1.33333, 1.33333])\n"
     ]
    }
   ],
   "source": [
    "print(itk.size(image))\n",
    "print(itk.spacing(image))"
   ]
  },
  {
   "cell_type": "code",
   "execution_count": 7,
   "metadata": {},
   "outputs": [
    {
     "data": {
      "text/plain": [
       "<xarray.DataArray (z: 192, y: 192, x: 160)>\n",
       "array([[[3, 0, 2, ..., 1, 1, 2],\n",
       "        [0, 0, 1, ..., 1, 2, 1],\n",
       "        [3, 2, 0, ..., 1, 1, 1],\n",
       "        ...,\n",
       "        [2, 1, 2, ..., 2, 2, 1],\n",
       "        [2, 1, 2, ..., 0, 1, 3],\n",
       "        [0, 0, 0, ..., 0, 0, 0]],\n",
       "\n",
       "       [[2, 2, 2, ..., 2, 2, 1],\n",
       "        [1, 1, 1, ..., 1, 1, 1],\n",
       "        [0, 0, 2, ..., 0, 1, 1],\n",
       "        ...,\n",
       "        [0, 0, 1, ..., 2, 1, 1],\n",
       "        [1, 1, 1, ..., 1, 1, 1],\n",
       "        [0, 0, 0, ..., 0, 0, 0]],\n",
       "\n",
       "       [[3, 2, 2, ..., 1, 1, 2],\n",
       "        [0, 1, 0, ..., 1, 3, 0],\n",
       "        [0, 0, 1, ..., 0, 2, 3],\n",
       "        ...,\n",
       "        [2, 2, 3, ..., 3, 0, 2],\n",
       "        [1, 2, 2, ..., 0, 0, 2],\n",
       "        [0, 0, 0, ..., 0, 0, 0]],\n",
       "\n",
       "       ...,\n",
       "\n",
       "       [[3, 1, 0, ..., 2, 2, 2],\n",
       "        [1, 3, 3, ..., 0, 2, 0],\n",
       "        [1, 1, 1, ..., 4, 3, 0],\n",
       "        ...,\n",
       "        [1, 2, 2, ..., 2, 2, 2],\n",
       "        [1, 1, 1, ..., 2, 2, 1],\n",
       "        [0, 0, 0, ..., 0, 0, 0]],\n",
       "\n",
       "       [[1, 3, 1, ..., 4, 0, 1],\n",
       "        [1, 0, 0, ..., 2, 2, 3],\n",
       "        [2, 0, 1, ..., 4, 0, 2],\n",
       "        ...,\n",
       "        [1, 3, 4, ..., 3, 1, 2],\n",
       "        [2, 4, 3, ..., 1, 1, 1],\n",
       "        [0, 0, 0, ..., 0, 0, 0]],\n",
       "\n",
       "       [[0, 0, 0, ..., 0, 0, 0],\n",
       "        [0, 0, 0, ..., 0, 0, 0],\n",
       "        [0, 0, 0, ..., 0, 0, 0],\n",
       "        ...,\n",
       "        [0, 0, 0, ..., 0, 0, 0],\n",
       "        [0, 0, 0, ..., 0, 0, 0],\n",
       "        [0, 0, 0, ..., 0, 0, 0]]], dtype=int16)\n",
       "Coordinates:\n",
       "  * y        (y) float64 128.0 129.3 130.7 132.0 ... 378.7 380.0 381.3 382.7\n",
       "  * z        (z) float64 -128.0 -126.7 -125.3 -124.0 ... 122.7 124.0 125.3 126.7\n",
       "  * x        (x) float64 -80.0 -79.0 -78.0 -77.0 -76.0 ... 76.0 77.0 78.0 79.0\n",
       "Attributes:\n",
       "    direction:  [[ 1.  0.  0.]\\n [ 0. -1.  0.]\\n [ 0.  0.  1.]]"
      ]
     },
     "execution_count": 7,
     "metadata": {},
     "output_type": "execute_result"
    }
   ],
   "source": [
    "# Available in ITK 5.1 RC 2 and later\n",
    "image_da = itk.xarray_from_image(image)\n",
    "image_da"
   ]
  },
  {
   "cell_type": "code",
   "execution_count": 8,
   "metadata": {},
   "outputs": [
    {
     "data": {
      "text/plain": [
       "OrderedDict([('direction', array([[ 1.,  0.,  0.],\n",
       "                     [ 0., -1.,  0.],\n",
       "                     [ 0.,  0.,  1.]])), ('units', 'mm')])"
      ]
     },
     "execution_count": 8,
     "metadata": {},
     "output_type": "execute_result"
    }
   ],
   "source": [
    "image_da.attrs['units'] = units\n",
    "image_da.attrs"
   ]
  },
  {
   "cell_type": "code",
   "execution_count": 9,
   "metadata": {},
   "outputs": [
    {
     "name": "stdout",
     "output_type": "stream",
     "text": [
      "level 1\n",
      "origin itkPointD3 ([-79.5, 127.333, -127.333])\n",
      "spacing itkVectorD3 ([2, 2.66667, 2.66667])\n",
      "size itkSize3 ([80, 96, 96])\n",
      "level 2\n",
      "origin itkPointD3 ([-78.5, 126, -126])\n",
      "spacing itkVectorD3 ([4, 5.33333, 5.33333])\n",
      "size itkSize3 ([40, 48, 48])\n",
      "level 3\n",
      "origin itkPointD3 ([-76.5, 123.333, -123.333])\n",
      "spacing itkVectorD3 ([8, 10.6667, 10.6667])\n",
      "size itkSize3 ([20, 24, 24])\n"
     ]
    }
   ],
   "source": [
    "# multi-resolution pyramid\n",
    "pyramid = [image_da]\n",
    "reduced = image\n",
    "while not np.all(np.array(itk.size(reduced)) < 32):\n",
    "    level = len(pyramid)\n",
    "    shrink_factors = [2**level]*3\n",
    "    reduced = itk.bin_shrink_image_filter(image, shrink_factors=shrink_factors)\n",
    "    reduced_da = itk.xarray_from_image(reduced)\n",
    "    reduced_da.attrs['units'] = units\n",
    "    print('level', level)\n",
    "    print('origin', itk.origin(reduced))\n",
    "    print('spacing', itk.spacing(reduced))\n",
    "    print('size', itk.size(reduced))\n",
    "    pyramid.append(reduced_da)"
   ]
  },
  {
   "cell_type": "code",
   "execution_count": 10,
   "metadata": {},
   "outputs": [
    {
     "data": {
      "application/vnd.jupyter.widget-view+json": {
       "model_id": "28db4c05f04444548392995d13a9ef52",
       "version_major": 2,
       "version_minor": 0
      },
      "text/plain": [
       "AppLayout(children=(HBox(children=(Label(value='Link:'), Checkbox(value=False, description='cmap'), Checkbox(v…"
      ]
     },
     "metadata": {},
     "output_type": "display_data"
    }
   ],
   "source": [
    "compare(image, itk.image_from_xarray(pyramid[-1]), mode='y', vmax=300)"
   ]
  },
  {
   "cell_type": "code",
   "execution_count": 11,
   "metadata": {},
   "outputs": [
    {
     "data": {
      "text/plain": [
       "<xarray.Dataset>\n",
       "Dimensions:      (x: 160, y: 192, z: 192)\n",
       "Coordinates:\n",
       "  * y            (y) float64 128.0 129.3 130.7 132.0 ... 378.7 380.0 381.3 382.7\n",
       "  * z            (z) float64 -128.0 -126.7 -125.3 -124.0 ... 124.0 125.3 126.7\n",
       "  * x            (x) float64 -80.0 -79.0 -78.0 -77.0 ... 76.0 77.0 78.0 79.0\n",
       "Data variables:\n",
       "    miqaSample1  (z, y, x) int16 3 0 2 1 2 1 3 1 1 1 0 ... 0 0 0 0 0 0 0 0 0 0 0"
      ]
     },
     "execution_count": 11,
     "metadata": {},
     "output_type": "execute_result"
    }
   ],
   "source": [
    "image_ds = image_da.to_dataset(name=dataset_name)\n",
    "image_ds"
   ]
  },
  {
   "cell_type": "code",
   "execution_count": 12,
   "metadata": {},
   "outputs": [
    {
     "data": {
      "text/plain": [
       "['', 'level_1', 'level_2', 'level_3']"
      ]
     },
     "execution_count": 12,
     "metadata": {},
     "output_type": "execute_result"
    }
   ],
   "source": [
    "pyramid_group_paths = [\"\"]\n",
    "for level in range(1, len(pyramid)):\n",
    "#for level in range(1, 6):\n",
    "    pyramid_group_paths.append('level_{0}'.format(level))\n",
    "pyramid_group_paths"
   ]
  },
  {
   "cell_type": "code",
   "execution_count": 13,
   "metadata": {},
   "outputs": [],
   "source": [
    "store = zarr.DirectoryStore(store_name)\n",
    "\n",
    "# NOSHUFFLE since we will be visualizing with WebAssembly, which does not currently have support for intrinsics\n",
    "blosc.use_threads = False\n",
    "# Crashing (?)\n",
    "# compressor = Blosc(cname='zstd', clevel=5, shuffle=Blosc.NOSHUFFLE)\n",
    "compressor = Blosc(clevel=5, shuffle=Blosc.NOSHUFFLE)\n",
    "chunk_size = 64"
   ]
  },
  {
   "cell_type": "code",
   "execution_count": 14,
   "metadata": {},
   "outputs": [
    {
     "data": {
      "text/plain": [
       "<xarray.backends.zarr.ZarrStore at 0x15e51a44888>"
      ]
     },
     "execution_count": 14,
     "metadata": {},
     "output_type": "execute_result"
    }
   ],
   "source": [
    "image_ds.to_zarr(store,\n",
    "                 mode='w',\n",
    "                 compute=True,\n",
    "                 encoding={dataset_name: {'chunks': [chunk_size]*3, 'compressor': compressor}})"
   ]
  },
  {
   "cell_type": "code",
   "execution_count": 15,
   "metadata": {},
   "outputs": [
    {
     "name": "stdout",
     "output_type": "stream",
     "text": [
      "level 3\n",
      "<xarray.Dataset>\n",
      "Dimensions:      (x: 20, y: 24, z: 24)\n",
      "Coordinates:\n",
      "  * y            (y) float64 123.3 134.0 144.7 155.3 ... 336.7 347.3 358.0 368.7\n",
      "  * z            (z) float64 -123.3 -112.7 -102.0 -91.33 ... 100.7 111.3 122.0\n",
      "  * x            (x) float64 -76.5 -68.5 -60.5 -52.5 ... 51.5 59.5 67.5 75.5\n",
      "Data variables:\n",
      "    miqaSample1  (z, y, x) int16 1 1 1 1 1 1 2 1 1 1 1 ... 1 1 1 1 1 1 1 1 1 1 1\n",
      "level 2\n",
      "<xarray.Dataset>\n",
      "Dimensions:      (x: 40, y: 48, z: 48)\n",
      "Coordinates:\n",
      "  * y            (y) float64 126.0 131.3 136.7 142.0 ... 360.7 366.0 371.3 376.7\n",
      "  * z            (z) float64 -126.0 -120.7 -115.3 -110.0 ... 114.0 119.3 124.7\n",
      "  * x            (x) float64 -78.5 -74.5 -70.5 -66.5 ... 65.5 69.5 73.5 77.5\n",
      "Data variables:\n",
      "    miqaSample1  (z, y, x) int16 336 15248 350 0 28688 20661 350 ... 0 0 0 0 0 0\n"
     ]
    }
   ],
   "source": [
    "# for level in range(len(pyramid)-1, 0, -1):\n",
    "for level in range(len(pyramid)-1, 1, -1): # level 1 crashes\n",
    "# for level in range(1, len(pyramid)):\n",
    "    print('level', level)\n",
    "    ds = pyramid[level].to_dataset(name=dataset_name)\n",
    "    print(ds)\n",
    "    compressor = Blosc(clevel=5, shuffle=Blosc.NOSHUFFLE)\n",
    "    ds.to_zarr(store,\n",
    "               mode='w',\n",
    "               group=pyramid_group_paths[level],\n",
    "               compute=True,\n",
    "               encoding={dataset_name: {'chunks': [chunk_size]*3, 'compressor': compressor}})"
   ]
  },
  {
   "cell_type": "code",
   "execution_count": 16,
   "metadata": {},
   "outputs": [
    {
     "data": {
      "text/plain": [
       "<zarr.hierarchy.Group '/'>"
      ]
     },
     "execution_count": 16,
     "metadata": {},
     "output_type": "execute_result"
    }
   ],
   "source": [
    "# After all modifications to the store are complete, consolidate the metadata so it is 'cloud-ready'.\n",
    "zarr.consolidate_metadata(store)"
   ]
  },
  {
   "cell_type": "code",
   "execution_count": 17,
   "metadata": {},
   "outputs": [],
   "source": [
    "ds = xr.open_zarr(store_name, group='level_3', consolidated=True)"
   ]
  },
  {
   "cell_type": "code",
   "execution_count": 18,
   "metadata": {},
   "outputs": [
    {
     "data": {
      "text/plain": [
       "<xarray.DataArray 'miqaSample1' (z: 24, y: 24, x: 20)>\n",
       "dask.array<zarr, shape=(24, 24, 20), dtype=int16, chunksize=(24, 24, 20), chunktype=numpy.ndarray>\n",
       "Coordinates:\n",
       "  * x        (x) float64 -76.5 -68.5 -60.5 -52.5 -44.5 ... 51.5 59.5 67.5 75.5\n",
       "  * y        (y) float64 123.3 134.0 144.7 155.3 ... 336.7 347.3 358.0 368.7\n",
       "  * z        (z) float64 -123.3 -112.7 -102.0 -91.33 ... 90.0 100.7 111.3 122.0\n",
       "Attributes:\n",
       "    units:      mm\n",
       "    direction:  [[1.0, 0.0, 0.0], [0.0, -1.0, 0.0], [0.0, 0.0, 1.0]]"
      ]
     },
     "execution_count": 18,
     "metadata": {},
     "output_type": "execute_result"
    }
   ],
   "source": [
    "da = ds[dataset_name]\n",
    "da"
   ]
  },
  {
   "cell_type": "code",
   "execution_count": 19,
   "metadata": {},
   "outputs": [
    {
     "data": {
      "application/vnd.jupyter.widget-view+json": {
       "model_id": "f97c278070c647e2a9ef92b9b652925f",
       "version_major": 2,
       "version_minor": 0
      },
      "text/plain": [
       "Viewer(geometries=[], gradient_opacity=0.22, point_sets=[], rendered_image=<itk.itkImagePython.itkImageSS3; pr…"
      ]
     },
     "metadata": {},
     "output_type": "display_data"
    }
   ],
   "source": [
    "image_level_3 = itk.image_from_xarray(da)\n",
    "view(image_level_3)"
   ]
  },
  {
   "cell_type": "code",
   "execution_count": 20,
   "metadata": {},
   "outputs": [
    {
     "name": "stdout",
     "output_type": "stream",
     "text": [
      "level 3\n",
      "level 2\n"
     ]
    }
   ],
   "source": [
    "for level in range(len(pyramid)-1, 1, -1): # level 1 crashes\n",
    "# for level in range(1, len(pyramid)):\n",
    "    print('level', level)\n",
    "    store = zarr.DirectoryStore(store_name + '/' + pyramid_group_paths[level])\n",
    "    # Also consolidate the metadata on the pyramid levels so they can be used independently\n",
    "    zarr.consolidate_metadata(store)"
   ]
  }
 ],
 "metadata": {
  "kernelspec": {
   "display_name": "Python 3",
   "language": "python",
   "name": "python3"
  },
  "language_info": {
   "codemirror_mode": {
    "name": "ipython",
    "version": 3
   },
   "file_extension": ".py",
   "mimetype": "text/x-python",
   "name": "python",
   "nbconvert_exporter": "python",
   "pygments_lexer": "ipython3",
   "version": "3.5.4"
  }
 },
 "nbformat": 4,
 "nbformat_minor": 2
}
