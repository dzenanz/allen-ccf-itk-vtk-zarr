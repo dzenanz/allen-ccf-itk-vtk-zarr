{
 "cells": [
  {
   "cell_type": "code",
   "execution_count": 1,
   "metadata": {},
   "outputs": [
    {
     "name": "stdout",
     "output_type": "stream",
     "text": [
      "Requirement already satisfied: xarray in /home/matt/bin/venvs/itkwidgets-nLOu9kyH/lib/python3.6/site-packages (0.15.0)\n",
      "Requirement already satisfied: zarr in /home/matt/bin/venvs/itkwidgets-nLOu9kyH/lib/python3.6/site-packages (2.4.0)\n",
      "Requirement already satisfied: itk in /home/matt/bin/venvs/itkwidgets-nLOu9kyH/lib/python3.6/site-packages (5.0.1)\n",
      "Requirement already satisfied: dask[array] in /home/matt/bin/venvs/itkwidgets-nLOu9kyH/lib/python3.6/site-packages (2.10.1)\n",
      "Requirement already satisfied: toolz in /home/matt/bin/venvs/itkwidgets-nLOu9kyH/lib/python3.6/site-packages (0.10.0)\n",
      "Requirement already satisfied: numpy>=1.15 in /home/matt/bin/venvs/itkwidgets-nLOu9kyH/lib/python3.6/site-packages (from xarray) (1.17.2)\n",
      "Requirement already satisfied: pandas>=0.25 in /home/matt/bin/venvs/itkwidgets-nLOu9kyH/lib/python3.6/site-packages (from xarray) (1.0.1)\n",
      "Requirement already satisfied: numcodecs>=0.6.4 in /home/matt/bin/venvs/itkwidgets-nLOu9kyH/lib/python3.6/site-packages (from zarr) (0.6.4)\n",
      "Requirement already satisfied: fasteners in /home/matt/bin/venvs/itkwidgets-nLOu9kyH/lib/python3.6/site-packages (from zarr) (0.15)\n",
      "Requirement already satisfied: asciitree in /home/matt/bin/venvs/itkwidgets-nLOu9kyH/lib/python3.6/site-packages (from zarr) (0.3.3)\n",
      "Requirement already satisfied: itk-registration==5.0.1 in /home/matt/bin/venvs/itkwidgets-nLOu9kyH/lib/python3.6/site-packages (from itk) (5.0.1)\n",
      "Requirement already satisfied: itk-io==5.0.1 in /home/matt/bin/venvs/itkwidgets-nLOu9kyH/lib/python3.6/site-packages (from itk) (5.0.1)\n",
      "Requirement already satisfied: itk-core==5.0.1 in /home/matt/bin/venvs/itkwidgets-nLOu9kyH/lib/python3.6/site-packages (from itk) (5.0.1)\n",
      "Requirement already satisfied: itk-numerics==5.0.1 in /home/matt/bin/venvs/itkwidgets-nLOu9kyH/lib/python3.6/site-packages (from itk) (5.0.1)\n",
      "Requirement already satisfied: itk-segmentation==5.0.1 in /home/matt/bin/venvs/itkwidgets-nLOu9kyH/lib/python3.6/site-packages (from itk) (5.0.1)\n",
      "Requirement already satisfied: itk-filtering==5.0.1 in /home/matt/bin/venvs/itkwidgets-nLOu9kyH/lib/python3.6/site-packages (from itk) (5.0.1)\n",
      "Requirement already satisfied: python-dateutil>=2.6.1 in /home/matt/bin/venvs/itkwidgets-nLOu9kyH/lib/python3.6/site-packages (from pandas>=0.25->xarray) (2.8.0)\n",
      "Requirement already satisfied: pytz>=2017.2 in /home/matt/bin/venvs/itkwidgets-nLOu9kyH/lib/python3.6/site-packages (from pandas>=0.25->xarray) (2019.2)\n",
      "Requirement already satisfied: six in /home/matt/bin/venvs/itkwidgets-nLOu9kyH/lib/python3.6/site-packages (from fasteners->zarr) (1.12.0)\n",
      "Requirement already satisfied: monotonic>=0.1 in /home/matt/bin/venvs/itkwidgets-nLOu9kyH/lib/python3.6/site-packages (from fasteners->zarr) (1.5)\n"
     ]
    }
   ],
   "source": [
    "import sys\n",
    "!{sys.executable} -m pip install xarray zarr itk dask[array] toolz"
   ]
  },
  {
   "cell_type": "code",
   "execution_count": 2,
   "metadata": {},
   "outputs": [],
   "source": [
    "import itk\n",
    "import xarray as xr\n",
    "import numpy as np\n",
    "from numcodecs import Blosc\n",
    "import zarr\n",
    "\n",
    "from itkwidgets import view"
   ]
  },
  {
   "cell_type": "code",
   "execution_count": 3,
   "metadata": {},
   "outputs": [],
   "source": [
    "image = itk.imread('average_template_50.nrrd')"
   ]
  },
  {
   "cell_type": "code",
   "execution_count": 4,
   "metadata": {},
   "outputs": [
    {
     "data": {
      "application/vnd.jupyter.widget-view+json": {
       "model_id": "e46dbaf5caf641d5b36fe19ae9af2c87",
       "version_major": 2,
       "version_minor": 0
      },
      "text/plain": [
       "Viewer(geometries=[], gradient_opacity=0.1, point_sets=[], rendered_image=<itkImagePython.itkImageUS3; proxy o…"
      ]
     },
     "metadata": {},
     "output_type": "display_data"
    }
   ],
   "source": [
    "view(image, vmax=300, gradient_opacity=0.1, units='μm')"
   ]
  },
  {
   "cell_type": "code",
   "execution_count": 5,
   "metadata": {},
   "outputs": [
    {
     "data": {
      "text/plain": [
       "itkSize3 ([264, 160, 228])"
      ]
     },
     "execution_count": 5,
     "metadata": {},
     "output_type": "execute_result"
    }
   ],
   "source": [
    "itk.size(image)"
   ]
  },
  {
   "cell_type": "code",
   "execution_count": 6,
   "metadata": {},
   "outputs": [],
   "source": [
    "def xarray_from_image(image):\n",
    "    array_view = itk.array_view_from_image(image)\n",
    "    spacing = itk.spacing(image)\n",
    "    origin = itk.origin(image)\n",
    "    size = itk.size(image)\n",
    "    direction = np.transpose(itk.array_from_matrix(image.GetDirection()))\n",
    "    spatial_dimension = image.GetImageDimension()\n",
    "\n",
    "    spatial_dims = ('x', 'y', 'z')\n",
    "    coords = {}\n",
    "    for index, dim in enumerate(spatial_dims[:spatial_dimension]):\n",
    "        coords[dim] = np.arange(origin[index],\n",
    "                                origin[index] + size[index]*spacing[index],\n",
    "                                spacing[index],\n",
    "                                dtype=np.float64)\n",
    "\n",
    "    dims = list(reversed(spatial_dims[:spatial_dimension]))\n",
    "    components = image.GetNumberOfComponentsPerPixel()\n",
    "    if components > 1:\n",
    "        dims.append('c')\n",
    "        coords['c'] = np.arange(components, dtype=np.uint64)\n",
    "\n",
    "    data_array = xr.DataArray(array_view,\n",
    "                              dims=dims,\n",
    "                              coords=coords,\n",
    "                              attrs={'direction': direction})\n",
    "    return data_array\n"
   ]
  },
  {
   "cell_type": "code",
   "execution_count": 7,
   "metadata": {},
   "outputs": [
    {
     "data": {
      "text/html": [
       "<pre>&lt;xarray.DataArray (z: 228, y: 160, x: 264)&gt;\n",
       "array([[[0, 0, 0, ..., 0, 0, 0],\n",
       "        [0, 0, 0, ..., 0, 0, 0],\n",
       "        [0, 0, 0, ..., 0, 0, 0],\n",
       "        ...,\n",
       "        [0, 0, 0, ..., 0, 0, 0],\n",
       "        [0, 0, 0, ..., 0, 0, 0],\n",
       "        [0, 0, 0, ..., 0, 0, 0]],\n",
       "\n",
       "       [[0, 0, 0, ..., 0, 0, 0],\n",
       "        [0, 0, 0, ..., 1, 1, 1],\n",
       "        [0, 0, 0, ..., 1, 1, 1],\n",
       "        ...,\n",
       "        [0, 0, 0, ..., 1, 1, 1],\n",
       "        [0, 0, 0, ..., 1, 1, 1],\n",
       "        [0, 0, 0, ..., 1, 1, 1]],\n",
       "\n",
       "       [[0, 0, 0, ..., 0, 0, 0],\n",
       "        [0, 0, 0, ..., 0, 1, 0],\n",
       "        [0, 0, 0, ..., 1, 1, 1],\n",
       "        ...,\n",
       "        [0, 0, 0, ..., 2, 1, 1],\n",
       "        [0, 0, 0, ..., 1, 1, 1],\n",
       "        [0, 0, 0, ..., 1, 1, 1]],\n",
       "\n",
       "       ...,\n",
       "\n",
       "       [[0, 0, 0, ..., 0, 0, 0],\n",
       "        [0, 0, 0, ..., 1, 1, 0],\n",
       "        [0, 0, 0, ..., 1, 1, 1],\n",
       "        ...,\n",
       "        [0, 0, 0, ..., 1, 1, 1],\n",
       "        [0, 0, 0, ..., 1, 1, 1],\n",
       "        [0, 0, 0, ..., 1, 1, 1]],\n",
       "\n",
       "       [[0, 0, 0, ..., 0, 0, 0],\n",
       "        [0, 0, 0, ..., 1, 1, 1],\n",
       "        [0, 0, 0, ..., 1, 1, 1],\n",
       "        ...,\n",
       "        [0, 0, 0, ..., 2, 2, 1],\n",
       "        [0, 0, 0, ..., 1, 1, 1],\n",
       "        [0, 0, 0, ..., 1, 1, 1]],\n",
       "\n",
       "       [[0, 0, 0, ..., 0, 0, 0],\n",
       "        [0, 0, 0, ..., 1, 1, 1],\n",
       "        [0, 0, 0, ..., 1, 1, 1],\n",
       "        ...,\n",
       "        [0, 0, 0, ..., 1, 1, 1],\n",
       "        [0, 0, 0, ..., 1, 1, 1],\n",
       "        [0, 0, 0, ..., 1, 1, 1]]], dtype=uint16)\n",
       "Coordinates:\n",
       "  * x        (x) float64 0.0 50.0 100.0 150.0 ... 1.305e+04 1.31e+04 1.315e+04\n",
       "  * y        (y) float64 0.0 50.0 100.0 150.0 ... 7.85e+03 7.9e+03 7.95e+03\n",
       "  * z        (z) float64 0.0 50.0 100.0 150.0 ... 1.125e+04 1.13e+04 1.135e+04\n",
       "Attributes:\n",
       "    direction:  [[1. 0. 0.]\\n [0. 1. 0.]\\n [0. 0. 1.]]</pre>"
      ],
      "text/plain": [
       "<xarray.DataArray (z: 228, y: 160, x: 264)>\n",
       "array([[[0, 0, 0, ..., 0, 0, 0],\n",
       "        [0, 0, 0, ..., 0, 0, 0],\n",
       "        [0, 0, 0, ..., 0, 0, 0],\n",
       "        ...,\n",
       "        [0, 0, 0, ..., 0, 0, 0],\n",
       "        [0, 0, 0, ..., 0, 0, 0],\n",
       "        [0, 0, 0, ..., 0, 0, 0]],\n",
       "\n",
       "       [[0, 0, 0, ..., 0, 0, 0],\n",
       "        [0, 0, 0, ..., 1, 1, 1],\n",
       "        [0, 0, 0, ..., 1, 1, 1],\n",
       "        ...,\n",
       "        [0, 0, 0, ..., 1, 1, 1],\n",
       "        [0, 0, 0, ..., 1, 1, 1],\n",
       "        [0, 0, 0, ..., 1, 1, 1]],\n",
       "\n",
       "       [[0, 0, 0, ..., 0, 0, 0],\n",
       "        [0, 0, 0, ..., 0, 1, 0],\n",
       "        [0, 0, 0, ..., 1, 1, 1],\n",
       "        ...,\n",
       "        [0, 0, 0, ..., 2, 1, 1],\n",
       "        [0, 0, 0, ..., 1, 1, 1],\n",
       "        [0, 0, 0, ..., 1, 1, 1]],\n",
       "\n",
       "       ...,\n",
       "\n",
       "       [[0, 0, 0, ..., 0, 0, 0],\n",
       "        [0, 0, 0, ..., 1, 1, 0],\n",
       "        [0, 0, 0, ..., 1, 1, 1],\n",
       "        ...,\n",
       "        [0, 0, 0, ..., 1, 1, 1],\n",
       "        [0, 0, 0, ..., 1, 1, 1],\n",
       "        [0, 0, 0, ..., 1, 1, 1]],\n",
       "\n",
       "       [[0, 0, 0, ..., 0, 0, 0],\n",
       "        [0, 0, 0, ..., 1, 1, 1],\n",
       "        [0, 0, 0, ..., 1, 1, 1],\n",
       "        ...,\n",
       "        [0, 0, 0, ..., 2, 2, 1],\n",
       "        [0, 0, 0, ..., 1, 1, 1],\n",
       "        [0, 0, 0, ..., 1, 1, 1]],\n",
       "\n",
       "       [[0, 0, 0, ..., 0, 0, 0],\n",
       "        [0, 0, 0, ..., 1, 1, 1],\n",
       "        [0, 0, 0, ..., 1, 1, 1],\n",
       "        ...,\n",
       "        [0, 0, 0, ..., 1, 1, 1],\n",
       "        [0, 0, 0, ..., 1, 1, 1],\n",
       "        [0, 0, 0, ..., 1, 1, 1]]], dtype=uint16)\n",
       "Coordinates:\n",
       "  * x        (x) float64 0.0 50.0 100.0 150.0 ... 1.305e+04 1.31e+04 1.315e+04\n",
       "  * y        (y) float64 0.0 50.0 100.0 150.0 ... 7.85e+03 7.9e+03 7.95e+03\n",
       "  * z        (z) float64 0.0 50.0 100.0 150.0 ... 1.125e+04 1.13e+04 1.135e+04\n",
       "Attributes:\n",
       "    direction:  [[1. 0. 0.]\\n [0. 1. 0.]\\n [0. 0. 1.]]"
      ]
     },
     "execution_count": 7,
     "metadata": {},
     "output_type": "execute_result"
    }
   ],
   "source": [
    "image_da = xarray_from_image(image)\n",
    "image_da"
   ]
  },
  {
   "cell_type": "code",
   "execution_count": 8,
   "metadata": {},
   "outputs": [],
   "source": [
    "image_da.chunks"
   ]
  },
  {
   "cell_type": "code",
   "execution_count": 9,
   "metadata": {},
   "outputs": [
    {
     "data": {
      "text/html": [
       "<pre>&lt;xarray.Dataset&gt;\n",
       "Dimensions:              (x: 264, y: 160, z: 228)\n",
       "Coordinates:\n",
       "  * x                    (x) float64 0.0 50.0 100.0 ... 1.31e+04 1.315e+04\n",
       "  * y                    (y) float64 0.0 50.0 100.0 ... 7.9e+03 7.95e+03\n",
       "  * z                    (z) float64 0.0 50.0 100.0 ... 1.13e+04 1.135e+04\n",
       "Data variables:\n",
       "    average_template_50  (z, y, x) uint16 0 0 0 0 0 0 0 0 0 ... 1 1 1 1 1 1 1 1</pre>"
      ],
      "text/plain": [
       "<xarray.Dataset>\n",
       "Dimensions:              (x: 264, y: 160, z: 228)\n",
       "Coordinates:\n",
       "  * x                    (x) float64 0.0 50.0 100.0 ... 1.31e+04 1.315e+04\n",
       "  * y                    (y) float64 0.0 50.0 100.0 ... 7.9e+03 7.95e+03\n",
       "  * z                    (z) float64 0.0 50.0 100.0 ... 1.13e+04 1.135e+04\n",
       "Data variables:\n",
       "    average_template_50  (z, y, x) uint16 0 0 0 0 0 0 0 0 0 ... 1 1 1 1 1 1 1 1"
      ]
     },
     "execution_count": 9,
     "metadata": {},
     "output_type": "execute_result"
    }
   ],
   "source": [
    "image_ds = image_da.to_dataset(name='average_template_50')\n",
    "image_ds"
   ]
  },
  {
   "cell_type": "code",
   "execution_count": 10,
   "metadata": {},
   "outputs": [
    {
     "data": {
      "text/plain": [
       "<xarray.backends.zarr.ZarrStore at 0x7f5a75a911a8>"
      ]
     },
     "execution_count": 10,
     "metadata": {},
     "output_type": "execute_result"
    }
   ],
   "source": [
    "image_ds.to_zarr(store='average_template_50.zarr', mode='w', compute=True, consolidated=True)"
   ]
  },
  {
   "cell_type": "code",
   "execution_count": 11,
   "metadata": {},
   "outputs": [
    {
     "data": {
      "text/plain": [
       "<xarray.backends.zarr.ZarrStore at 0x7f5ac374a0a0>"
      ]
     },
     "execution_count": 11,
     "metadata": {},
     "output_type": "execute_result"
    }
   ],
   "source": [
    "compressor = Blosc(cname='zstd', clevel=3, shuffle=Blosc.SHUFFLE)\n",
    "image_ds.to_zarr('average_template_50_zstd.zarr',\n",
    "                  mode='w',\n",
    "                  compute=True,\n",
    "                  encoding = {'average_template_50': {'compressor': compressor}},\n",
    "                  consolidated=True)"
   ]
  },
  {
   "cell_type": "code",
   "execution_count": 12,
   "metadata": {},
   "outputs": [
    {
     "data": {
      "text/plain": [
       "<xarray.backends.zarr.ZarrStore at 0x7f5a75a91410>"
      ]
     },
     "execution_count": 12,
     "metadata": {},
     "output_type": "execute_result"
    }
   ],
   "source": [
    "image_ds.to_zarr('average_template_50_chunked.zarr',\n",
    "                  mode='w',\n",
    "                  compute=True,\n",
    "                  encoding = {'average_template_50': {'chunks': [64]*3, 'compressor': compressor}},\n",
    "                  consolidated=True)"
   ]
  }
 ],
 "metadata": {
  "kernelspec": {
   "display_name": "Python 3",
   "language": "python",
   "name": "python3"
  },
  "language_info": {
   "codemirror_mode": {
    "name": "ipython",
    "version": 3
   },
   "file_extension": ".py",
   "mimetype": "text/x-python",
   "name": "python",
   "nbconvert_exporter": "python",
   "pygments_lexer": "ipython3",
   "version": "3.6.8"
  }
 },
 "nbformat": 4,
 "nbformat_minor": 2
}
