{
 "cells": [
  {
   "cell_type": "code",
   "execution_count": 1,
   "metadata": {},
   "outputs": [
    {
     "name": "stdout",
     "output_type": "stream",
     "text": [
      "Requirement already satisfied: xarray in /home/matt/bin/miniconda3/envs/spatial-image/lib/python3.7/site-packages (0.14.1)\n",
      "Requirement already satisfied: zarr in /home/matt/bin/miniconda3/envs/spatial-image/lib/python3.7/site-packages (2.4.0)\n",
      "Requirement already satisfied: itk>=5.1rc2 in /home/matt/bin/miniconda3/envs/spatial-image/lib/python3.7/site-packages (5.1rc2)\n",
      "Requirement already satisfied: dask[array] in /home/matt/bin/miniconda3/envs/spatial-image/lib/python3.7/site-packages (2.11.0)\n",
      "Requirement already satisfied: toolz in /home/matt/bin/miniconda3/envs/spatial-image/lib/python3.7/site-packages (0.10.0)\n",
      "Requirement already satisfied: itkwidgets in /home/matt/src/itkwidgets (0.27.0.dev0)\n",
      "Requirement already satisfied: numpy>=1.14 in /home/matt/bin/miniconda3/envs/spatial-image/lib/python3.7/site-packages (from xarray) (1.18.1)\n",
      "Requirement already satisfied: pandas>=0.24 in /home/matt/bin/miniconda3/envs/spatial-image/lib/python3.7/site-packages (from xarray) (0.25.3)\n",
      "Requirement already satisfied: numcodecs>=0.6.4 in /home/matt/bin/miniconda3/envs/spatial-image/lib/python3.7/site-packages (from zarr) (0.6.4)\n",
      "Requirement already satisfied: fasteners in /home/matt/bin/miniconda3/envs/spatial-image/lib/python3.7/site-packages (from zarr) (0.15)\n",
      "Requirement already satisfied: asciitree in /home/matt/bin/miniconda3/envs/spatial-image/lib/python3.7/site-packages (from zarr) (0.3.3)\n",
      "Requirement already satisfied: itk-io==5.1rc2 in /home/matt/bin/miniconda3/envs/spatial-image/lib/python3.7/site-packages (from itk>=5.1rc2) (5.1rc2)\n",
      "Requirement already satisfied: itk-core==5.1rc2 in /home/matt/bin/miniconda3/envs/spatial-image/lib/python3.7/site-packages (from itk>=5.1rc2) (5.1rc2)\n",
      "Requirement already satisfied: itk-registration==5.1rc2 in /home/matt/bin/miniconda3/envs/spatial-image/lib/python3.7/site-packages (from itk>=5.1rc2) (5.1rc2)\n",
      "Requirement already satisfied: itk-segmentation==5.1rc2 in /home/matt/bin/miniconda3/envs/spatial-image/lib/python3.7/site-packages (from itk>=5.1rc2) (5.1rc2)\n",
      "Requirement already satisfied: itk-filtering==5.1rc2 in /home/matt/bin/miniconda3/envs/spatial-image/lib/python3.7/site-packages (from itk>=5.1rc2) (5.1rc2)\n",
      "Requirement already satisfied: itk-numerics==5.1rc2 in /home/matt/bin/miniconda3/envs/spatial-image/lib/python3.7/site-packages (from itk>=5.1rc2) (5.1rc2)\n",
      "Requirement already satisfied: colorcet in /home/matt/bin/miniconda3/envs/spatial-image/lib/python3.7/site-packages (from itkwidgets) (2.0.2)\n",
      "Requirement already satisfied: itk-meshtopolydata>=0.5.1 in /home/matt/bin/miniconda3/envs/spatial-image/lib/python3.7/site-packages (from itkwidgets) (0.5.1)\n",
      "Requirement already satisfied: ipydatawidgets>=4.0.1 in /home/matt/bin/miniconda3/envs/spatial-image/lib/python3.7/site-packages (from itkwidgets) (4.0.1)\n",
      "Requirement already satisfied: ipywidgets>=7.5.1 in /home/matt/bin/miniconda3/envs/spatial-image/lib/python3.7/site-packages (from itkwidgets) (7.5.1)\n",
      "Requirement already satisfied: ipympl>=0.4.1 in /home/matt/bin/miniconda3/envs/spatial-image/lib/python3.7/site-packages (from itkwidgets) (0.4.1)\n",
      "Requirement already satisfied: matplotlib in /home/matt/bin/miniconda3/envs/spatial-image/lib/python3.7/site-packages (from itkwidgets) (3.1.3)\n",
      "Requirement already satisfied: scipy in /home/matt/bin/miniconda3/envs/spatial-image/lib/python3.7/site-packages (from itkwidgets) (1.4.1)\n",
      "Requirement already satisfied: six in /home/matt/bin/miniconda3/envs/spatial-image/lib/python3.7/site-packages (from itkwidgets) (1.14.0)\n",
      "Requirement already satisfied: zstandard in /home/matt/bin/miniconda3/envs/spatial-image/lib/python3.7/site-packages (from itkwidgets) (0.13.0)\n",
      "Requirement already satisfied: pytz>=2017.2 in /home/matt/bin/miniconda3/envs/spatial-image/lib/python3.7/site-packages (from pandas>=0.24->xarray) (2019.3)\n",
      "Requirement already satisfied: python-dateutil>=2.6.1 in /home/matt/bin/miniconda3/envs/spatial-image/lib/python3.7/site-packages (from pandas>=0.24->xarray) (2.8.1)\n",
      "Requirement already satisfied: monotonic>=0.1 in /home/matt/bin/miniconda3/envs/spatial-image/lib/python3.7/site-packages (from fasteners->zarr) (1.5)\n",
      "Requirement already satisfied: param>=1.7.0 in /home/matt/bin/miniconda3/envs/spatial-image/lib/python3.7/site-packages (from colorcet->itkwidgets) (1.9.3)\n",
      "Requirement already satisfied: pyct>=0.4.4 in /home/matt/bin/miniconda3/envs/spatial-image/lib/python3.7/site-packages (from colorcet->itkwidgets) (0.4.6)\n",
      "Requirement already satisfied: traittypes>=0.2.0 in /home/matt/bin/miniconda3/envs/spatial-image/lib/python3.7/site-packages (from ipydatawidgets>=4.0.1->itkwidgets) (0.2.1)\n",
      "Requirement already satisfied: ipykernel>=4.5.1 in /home/matt/bin/miniconda3/envs/spatial-image/lib/python3.7/site-packages (from ipywidgets>=7.5.1->itkwidgets) (5.1.4)\n",
      "Requirement already satisfied: widgetsnbextension~=3.5.0 in /home/matt/bin/miniconda3/envs/spatial-image/lib/python3.7/site-packages (from ipywidgets>=7.5.1->itkwidgets) (3.5.1)\n",
      "Requirement already satisfied: traitlets>=4.3.1 in /home/matt/bin/miniconda3/envs/spatial-image/lib/python3.7/site-packages (from ipywidgets>=7.5.1->itkwidgets) (4.3.3)\n",
      "Requirement already satisfied: nbformat>=4.2.0 in /home/matt/bin/miniconda3/envs/spatial-image/lib/python3.7/site-packages (from ipywidgets>=7.5.1->itkwidgets) (5.0.4)\n",
      "Requirement already satisfied: ipython>=4.0.0; python_version >= \"3.3\" in /home/matt/bin/miniconda3/envs/spatial-image/lib/python3.7/site-packages (from ipywidgets>=7.5.1->itkwidgets) (7.11.1)\n",
      "Requirement already satisfied: kiwisolver>=1.0.1 in /home/matt/bin/miniconda3/envs/spatial-image/lib/python3.7/site-packages (from matplotlib->itkwidgets) (1.1.0)\n",
      "Requirement already satisfied: pyparsing!=2.0.4,!=2.1.2,!=2.1.6,>=2.0.1 in /home/matt/bin/miniconda3/envs/spatial-image/lib/python3.7/site-packages (from matplotlib->itkwidgets) (2.4.6)\n",
      "Requirement already satisfied: cycler>=0.10 in /home/matt/bin/miniconda3/envs/spatial-image/lib/python3.7/site-packages (from matplotlib->itkwidgets) (0.10.0)\n",
      "Requirement already satisfied: cffi>=1.11 in /home/matt/bin/miniconda3/envs/spatial-image/lib/python3.7/site-packages (from zstandard->itkwidgets) (1.14.0)\n",
      "Requirement already satisfied: jupyter-client in /home/matt/bin/miniconda3/envs/spatial-image/lib/python3.7/site-packages (from ipykernel>=4.5.1->ipywidgets>=7.5.1->itkwidgets) (6.0.0)\n",
      "Requirement already satisfied: tornado>=4.2 in /home/matt/bin/miniconda3/envs/spatial-image/lib/python3.7/site-packages (from ipykernel>=4.5.1->ipywidgets>=7.5.1->itkwidgets) (6.0.3)\n",
      "Requirement already satisfied: notebook>=4.4.1 in /home/matt/bin/miniconda3/envs/spatial-image/lib/python3.7/site-packages (from widgetsnbextension~=3.5.0->ipywidgets>=7.5.1->itkwidgets) (6.0.3)\n",
      "Requirement already satisfied: ipython-genutils in /home/matt/bin/miniconda3/envs/spatial-image/lib/python3.7/site-packages (from traitlets>=4.3.1->ipywidgets>=7.5.1->itkwidgets) (0.2.0)\n",
      "Requirement already satisfied: decorator in /home/matt/bin/miniconda3/envs/spatial-image/lib/python3.7/site-packages (from traitlets>=4.3.1->ipywidgets>=7.5.1->itkwidgets) (4.4.1)\n",
      "Requirement already satisfied: jsonschema!=2.5.0,>=2.4 in /home/matt/bin/miniconda3/envs/spatial-image/lib/python3.7/site-packages (from nbformat>=4.2.0->ipywidgets>=7.5.1->itkwidgets) (3.2.0)\n",
      "Requirement already satisfied: jupyter-core in /home/matt/bin/miniconda3/envs/spatial-image/lib/python3.7/site-packages (from nbformat>=4.2.0->ipywidgets>=7.5.1->itkwidgets) (4.6.3)\n",
      "Requirement already satisfied: pexpect; sys_platform != \"win32\" in /home/matt/bin/miniconda3/envs/spatial-image/lib/python3.7/site-packages (from ipython>=4.0.0; python_version >= \"3.3\"->ipywidgets>=7.5.1->itkwidgets) (4.8.0)\n",
      "Requirement already satisfied: prompt-toolkit!=3.0.0,!=3.0.1,<3.1.0,>=2.0.0 in /home/matt/bin/miniconda3/envs/spatial-image/lib/python3.7/site-packages (from ipython>=4.0.0; python_version >= \"3.3\"->ipywidgets>=7.5.1->itkwidgets) (3.0.3)\n",
      "Requirement already satisfied: pygments in /home/matt/bin/miniconda3/envs/spatial-image/lib/python3.7/site-packages (from ipython>=4.0.0; python_version >= \"3.3\"->ipywidgets>=7.5.1->itkwidgets) (2.5.2)\n",
      "Requirement already satisfied: backcall in /home/matt/bin/miniconda3/envs/spatial-image/lib/python3.7/site-packages (from ipython>=4.0.0; python_version >= \"3.3\"->ipywidgets>=7.5.1->itkwidgets) (0.1.0)\n",
      "Requirement already satisfied: setuptools>=18.5 in /home/matt/bin/miniconda3/envs/spatial-image/lib/python3.7/site-packages (from ipython>=4.0.0; python_version >= \"3.3\"->ipywidgets>=7.5.1->itkwidgets) (45.0.0.post20200113)\n",
      "Requirement already satisfied: jedi>=0.10 in /home/matt/bin/miniconda3/envs/spatial-image/lib/python3.7/site-packages (from ipython>=4.0.0; python_version >= \"3.3\"->ipywidgets>=7.5.1->itkwidgets) (0.16.0)\n",
      "Requirement already satisfied: pickleshare in /home/matt/bin/miniconda3/envs/spatial-image/lib/python3.7/site-packages (from ipython>=4.0.0; python_version >= \"3.3\"->ipywidgets>=7.5.1->itkwidgets) (0.7.5)\n",
      "Requirement already satisfied: pycparser in /home/matt/bin/miniconda3/envs/spatial-image/lib/python3.7/site-packages (from cffi>=1.11->zstandard->itkwidgets) (2.19)\n",
      "Requirement already satisfied: pyzmq>=13 in /home/matt/bin/miniconda3/envs/spatial-image/lib/python3.7/site-packages (from jupyter-client->ipykernel>=4.5.1->ipywidgets>=7.5.1->itkwidgets) (19.0.0)\n",
      "Requirement already satisfied: terminado>=0.8.1 in /home/matt/bin/miniconda3/envs/spatial-image/lib/python3.7/site-packages (from notebook>=4.4.1->widgetsnbextension~=3.5.0->ipywidgets>=7.5.1->itkwidgets) (0.8.3)\n",
      "Requirement already satisfied: nbconvert in /home/matt/bin/miniconda3/envs/spatial-image/lib/python3.7/site-packages (from notebook>=4.4.1->widgetsnbextension~=3.5.0->ipywidgets>=7.5.1->itkwidgets) (5.6.1)\n"
     ]
    },
    {
     "name": "stdout",
     "output_type": "stream",
     "text": [
      "Requirement already satisfied: jinja2 in /home/matt/bin/miniconda3/envs/spatial-image/lib/python3.7/site-packages (from notebook>=4.4.1->widgetsnbextension~=3.5.0->ipywidgets>=7.5.1->itkwidgets) (2.11.1)\n",
      "Requirement already satisfied: prometheus-client in /home/matt/bin/miniconda3/envs/spatial-image/lib/python3.7/site-packages (from notebook>=4.4.1->widgetsnbextension~=3.5.0->ipywidgets>=7.5.1->itkwidgets) (0.7.1)\n",
      "Requirement already satisfied: Send2Trash in /home/matt/bin/miniconda3/envs/spatial-image/lib/python3.7/site-packages (from notebook>=4.4.1->widgetsnbextension~=3.5.0->ipywidgets>=7.5.1->itkwidgets) (1.5.0)\n",
      "Requirement already satisfied: importlib-metadata; python_version < \"3.8\" in /home/matt/bin/miniconda3/envs/spatial-image/lib/python3.7/site-packages (from jsonschema!=2.5.0,>=2.4->nbformat>=4.2.0->ipywidgets>=7.5.1->itkwidgets) (1.5.0)\n",
      "Requirement already satisfied: pyrsistent>=0.14.0 in /home/matt/bin/miniconda3/envs/spatial-image/lib/python3.7/site-packages (from jsonschema!=2.5.0,>=2.4->nbformat>=4.2.0->ipywidgets>=7.5.1->itkwidgets) (0.15.7)\n",
      "Requirement already satisfied: attrs>=17.4.0 in /home/matt/bin/miniconda3/envs/spatial-image/lib/python3.7/site-packages (from jsonschema!=2.5.0,>=2.4->nbformat>=4.2.0->ipywidgets>=7.5.1->itkwidgets) (19.3.0)\n",
      "Requirement already satisfied: ptyprocess>=0.5 in /home/matt/bin/miniconda3/envs/spatial-image/lib/python3.7/site-packages (from pexpect; sys_platform != \"win32\"->ipython>=4.0.0; python_version >= \"3.3\"->ipywidgets>=7.5.1->itkwidgets) (0.6.0)\n",
      "Requirement already satisfied: wcwidth in /home/matt/bin/miniconda3/envs/spatial-image/lib/python3.7/site-packages (from prompt-toolkit!=3.0.0,!=3.0.1,<3.1.0,>=2.0.0->ipython>=4.0.0; python_version >= \"3.3\"->ipywidgets>=7.5.1->itkwidgets) (0.1.8)\n",
      "Requirement already satisfied: parso>=0.5.2 in /home/matt/bin/miniconda3/envs/spatial-image/lib/python3.7/site-packages (from jedi>=0.10->ipython>=4.0.0; python_version >= \"3.3\"->ipywidgets>=7.5.1->itkwidgets) (0.6.0)\n",
      "Requirement already satisfied: testpath in /home/matt/bin/miniconda3/envs/spatial-image/lib/python3.7/site-packages (from nbconvert->notebook>=4.4.1->widgetsnbextension~=3.5.0->ipywidgets>=7.5.1->itkwidgets) (0.4.4)\n",
      "Requirement already satisfied: defusedxml in /home/matt/bin/miniconda3/envs/spatial-image/lib/python3.7/site-packages (from nbconvert->notebook>=4.4.1->widgetsnbextension~=3.5.0->ipywidgets>=7.5.1->itkwidgets) (0.6.0)\n",
      "Requirement already satisfied: pandocfilters>=1.4.1 in /home/matt/bin/miniconda3/envs/spatial-image/lib/python3.7/site-packages (from nbconvert->notebook>=4.4.1->widgetsnbextension~=3.5.0->ipywidgets>=7.5.1->itkwidgets) (1.4.2)\n",
      "Requirement already satisfied: entrypoints>=0.2.2 in /home/matt/bin/miniconda3/envs/spatial-image/lib/python3.7/site-packages (from nbconvert->notebook>=4.4.1->widgetsnbextension~=3.5.0->ipywidgets>=7.5.1->itkwidgets) (0.3)\n",
      "Requirement already satisfied: bleach in /home/matt/bin/miniconda3/envs/spatial-image/lib/python3.7/site-packages (from nbconvert->notebook>=4.4.1->widgetsnbextension~=3.5.0->ipywidgets>=7.5.1->itkwidgets) (3.1.1)\n",
      "Requirement already satisfied: mistune<2,>=0.8.1 in /home/matt/bin/miniconda3/envs/spatial-image/lib/python3.7/site-packages (from nbconvert->notebook>=4.4.1->widgetsnbextension~=3.5.0->ipywidgets>=7.5.1->itkwidgets) (0.8.4)\n",
      "Requirement already satisfied: MarkupSafe>=0.23 in /home/matt/bin/miniconda3/envs/spatial-image/lib/python3.7/site-packages (from jinja2->notebook>=4.4.1->widgetsnbextension~=3.5.0->ipywidgets>=7.5.1->itkwidgets) (1.1.1)\n",
      "Requirement already satisfied: zipp>=0.5 in /home/matt/bin/miniconda3/envs/spatial-image/lib/python3.7/site-packages (from importlib-metadata; python_version < \"3.8\"->jsonschema!=2.5.0,>=2.4->nbformat>=4.2.0->ipywidgets>=7.5.1->itkwidgets) (2.1.0)\n",
      "Requirement already satisfied: webencodings in /home/matt/bin/miniconda3/envs/spatial-image/lib/python3.7/site-packages (from bleach->nbconvert->notebook>=4.4.1->widgetsnbextension~=3.5.0->ipywidgets>=7.5.1->itkwidgets) (0.5.1)\n"
     ]
    }
   ],
   "source": [
    "import sys\n",
    "!{sys.executable} -m pip install xarray zarr 'itk>=5.1rc2' dask[array] toolz itkwidgets"
   ]
  },
  {
   "cell_type": "code",
   "execution_count": 1,
   "metadata": {},
   "outputs": [],
   "source": [
    "import itk\n",
    "import xarray as xr\n",
    "import numpy as np\n",
    "from numcodecs import Blosc, blosc\n",
    "import zarr\n",
    "from urllib.request import urlretrieve\n",
    "import os\n",
    "\n",
    "from itkwidgets import view, compare"
   ]
  },
  {
   "cell_type": "code",
   "execution_count": 3,
   "metadata": {},
   "outputs": [],
   "source": [
    "ccf_filename = 'average_template_10.nrrd'\n",
    "if not os.path.exists(ccf_filename):\n",
    "    url = 'http://download.alleninstitute.org/informatics-archive/current-release/mouse_ccf/average_template/average_template_10.nrrd'\n",
    "    urlretrieve(url, ccf_filename)"
   ]
  },
  {
   "cell_type": "code",
   "execution_count": 4,
   "metadata": {},
   "outputs": [],
   "source": [
    "image = itk.imread(ccf_filename)"
   ]
  },
  {
   "cell_type": "code",
   "execution_count": 5,
   "metadata": {},
   "outputs": [
    {
     "data": {
      "application/vnd.jupyter.widget-view+json": {
       "model_id": "242b377e200649f5b48bc81a42486d62",
       "version_major": 2,
       "version_minor": 0
      },
      "text/plain": [
       "Viewer(geometries=[], gradient_opacity=0.1, point_sets=[], rendered_image=<itkImagePython.itkImageUS3; proxy o…"
      ]
     },
     "metadata": {},
     "output_type": "display_data"
    }
   ],
   "source": [
    "view(image, vmax=300, gradient_opacity=0.1, units='μm')"
   ]
  },
  {
   "cell_type": "code",
   "execution_count": 6,
   "metadata": {},
   "outputs": [
    {
     "name": "stdout",
     "output_type": "stream",
     "text": [
      "itkSize3 ([1320, 800, 1140])\n",
      "itkVectorD3 ([10, 10, 10])\n"
     ]
    }
   ],
   "source": [
    "print(itk.size(image))\n",
    "print(itk.spacing(image))"
   ]
  },
  {
   "cell_type": "code",
   "execution_count": 7,
   "metadata": {},
   "outputs": [
    {
     "data": {
      "text/html": [
       "<pre>&lt;xarray.DataArray (z: 1140, y: 800, x: 1320)&gt;\n",
       "array([[[0, 0, 0, ..., 0, 0, 0],\n",
       "        [0, 0, 0, ..., 0, 0, 0],\n",
       "        [0, 0, 0, ..., 0, 0, 0],\n",
       "        ...,\n",
       "        [0, 0, 0, ..., 0, 0, 0],\n",
       "        [0, 0, 0, ..., 0, 0, 0],\n",
       "        [0, 0, 0, ..., 0, 0, 0]],\n",
       "\n",
       "       [[0, 0, 0, ..., 0, 0, 0],\n",
       "        [0, 0, 0, ..., 0, 0, 0],\n",
       "        [0, 0, 0, ..., 0, 0, 0],\n",
       "        ...,\n",
       "        [0, 0, 0, ..., 0, 0, 0],\n",
       "        [0, 0, 0, ..., 0, 0, 0],\n",
       "        [0, 1, 1, ..., 0, 0, 0]],\n",
       "\n",
       "       [[0, 0, 0, ..., 0, 0, 0],\n",
       "        [0, 0, 0, ..., 0, 0, 0],\n",
       "        [0, 0, 0, ..., 0, 0, 0],\n",
       "        ...,\n",
       "        [0, 0, 0, ..., 0, 0, 0],\n",
       "        [0, 0, 0, ..., 0, 0, 0],\n",
       "        [0, 1, 1, ..., 0, 0, 0]],\n",
       "\n",
       "       ...,\n",
       "\n",
       "       [[0, 0, 0, ..., 0, 0, 0],\n",
       "        [0, 0, 0, ..., 0, 0, 0],\n",
       "        [0, 0, 0, ..., 0, 0, 0],\n",
       "        ...,\n",
       "        [0, 0, 0, ..., 0, 0, 0],\n",
       "        [0, 0, 0, ..., 0, 0, 0],\n",
       "        [0, 1, 1, ..., 0, 0, 0]],\n",
       "\n",
       "       [[0, 0, 0, ..., 0, 0, 0],\n",
       "        [0, 0, 0, ..., 0, 0, 0],\n",
       "        [0, 0, 0, ..., 0, 0, 0],\n",
       "        ...,\n",
       "        [0, 0, 0, ..., 0, 0, 0],\n",
       "        [0, 0, 0, ..., 0, 0, 0],\n",
       "        [0, 1, 1, ..., 0, 0, 0]],\n",
       "\n",
       "       [[0, 0, 0, ..., 0, 0, 0],\n",
       "        [0, 0, 0, ..., 0, 0, 0],\n",
       "        [0, 0, 0, ..., 0, 0, 0],\n",
       "        ...,\n",
       "        [0, 0, 0, ..., 0, 0, 0],\n",
       "        [0, 0, 0, ..., 0, 0, 0],\n",
       "        [0, 0, 0, ..., 0, 0, 0]]], dtype=uint16)\n",
       "Coordinates:\n",
       "  * x        (x) float64 0.0 10.0 20.0 30.0 ... 1.317e+04 1.318e+04 1.319e+04\n",
       "  * y        (y) float64 0.0 10.0 20.0 30.0 ... 7.97e+03 7.98e+03 7.99e+03\n",
       "  * z        (z) float64 0.0 10.0 20.0 30.0 ... 1.137e+04 1.138e+04 1.139e+04\n",
       "Attributes:\n",
       "    direction:  [[1. 0. 0.]\\n [0. 1. 0.]\\n [0. 0. 1.]]</pre>"
      ],
      "text/plain": [
       "<xarray.DataArray (z: 1140, y: 800, x: 1320)>\n",
       "array([[[0, 0, 0, ..., 0, 0, 0],\n",
       "        [0, 0, 0, ..., 0, 0, 0],\n",
       "        [0, 0, 0, ..., 0, 0, 0],\n",
       "        ...,\n",
       "        [0, 0, 0, ..., 0, 0, 0],\n",
       "        [0, 0, 0, ..., 0, 0, 0],\n",
       "        [0, 0, 0, ..., 0, 0, 0]],\n",
       "\n",
       "       [[0, 0, 0, ..., 0, 0, 0],\n",
       "        [0, 0, 0, ..., 0, 0, 0],\n",
       "        [0, 0, 0, ..., 0, 0, 0],\n",
       "        ...,\n",
       "        [0, 0, 0, ..., 0, 0, 0],\n",
       "        [0, 0, 0, ..., 0, 0, 0],\n",
       "        [0, 1, 1, ..., 0, 0, 0]],\n",
       "\n",
       "       [[0, 0, 0, ..., 0, 0, 0],\n",
       "        [0, 0, 0, ..., 0, 0, 0],\n",
       "        [0, 0, 0, ..., 0, 0, 0],\n",
       "        ...,\n",
       "        [0, 0, 0, ..., 0, 0, 0],\n",
       "        [0, 0, 0, ..., 0, 0, 0],\n",
       "        [0, 1, 1, ..., 0, 0, 0]],\n",
       "\n",
       "       ...,\n",
       "\n",
       "       [[0, 0, 0, ..., 0, 0, 0],\n",
       "        [0, 0, 0, ..., 0, 0, 0],\n",
       "        [0, 0, 0, ..., 0, 0, 0],\n",
       "        ...,\n",
       "        [0, 0, 0, ..., 0, 0, 0],\n",
       "        [0, 0, 0, ..., 0, 0, 0],\n",
       "        [0, 1, 1, ..., 0, 0, 0]],\n",
       "\n",
       "       [[0, 0, 0, ..., 0, 0, 0],\n",
       "        [0, 0, 0, ..., 0, 0, 0],\n",
       "        [0, 0, 0, ..., 0, 0, 0],\n",
       "        ...,\n",
       "        [0, 0, 0, ..., 0, 0, 0],\n",
       "        [0, 0, 0, ..., 0, 0, 0],\n",
       "        [0, 1, 1, ..., 0, 0, 0]],\n",
       "\n",
       "       [[0, 0, 0, ..., 0, 0, 0],\n",
       "        [0, 0, 0, ..., 0, 0, 0],\n",
       "        [0, 0, 0, ..., 0, 0, 0],\n",
       "        ...,\n",
       "        [0, 0, 0, ..., 0, 0, 0],\n",
       "        [0, 0, 0, ..., 0, 0, 0],\n",
       "        [0, 0, 0, ..., 0, 0, 0]]], dtype=uint16)\n",
       "Coordinates:\n",
       "  * x        (x) float64 0.0 10.0 20.0 30.0 ... 1.317e+04 1.318e+04 1.319e+04\n",
       "  * y        (y) float64 0.0 10.0 20.0 30.0 ... 7.97e+03 7.98e+03 7.99e+03\n",
       "  * z        (z) float64 0.0 10.0 20.0 30.0 ... 1.137e+04 1.138e+04 1.139e+04\n",
       "Attributes:\n",
       "    direction:  [[1. 0. 0.]\\n [0. 1. 0.]\\n [0. 0. 1.]]"
      ]
     },
     "execution_count": 7,
     "metadata": {},
     "output_type": "execute_result"
    }
   ],
   "source": [
    "# Available in ITK 5.1 RC 2 and later\n",
    "image_da = itk.xarray_from_image(image)\n",
    "image_da"
   ]
  },
  {
   "cell_type": "code",
   "execution_count": 8,
   "metadata": {},
   "outputs": [
    {
     "data": {
      "text/plain": [
       "{'direction': array([[1., 0., 0.],\n",
       "        [0., 1., 0.],\n",
       "        [0., 0., 1.]]), 'units': 'μm'}"
      ]
     },
     "execution_count": 8,
     "metadata": {},
     "output_type": "execute_result"
    }
   ],
   "source": [
    "units = 'μm'\n",
    "image_da.attrs['units'] = units\n",
    "image_da.attrs"
   ]
  },
  {
   "cell_type": "code",
   "execution_count": 9,
   "metadata": {},
   "outputs": [
    {
     "name": "stdout",
     "output_type": "stream",
     "text": [
      "level 1\n",
      "origin itkPointD3 ([5, 5, 5])\n",
      "spacing itkVectorD3 ([20, 20, 20])\n",
      "size itkSize3 ([660, 400, 570])\n",
      "level 2\n",
      "origin itkPointD3 ([15, 15, 15])\n",
      "spacing itkVectorD3 ([40, 40, 40])\n",
      "size itkSize3 ([330, 200, 285])\n",
      "level 3\n",
      "origin itkPointD3 ([35, 35, 35])\n",
      "spacing itkVectorD3 ([80, 80, 80])\n",
      "size itkSize3 ([165, 100, 142])\n",
      "level 4\n",
      "origin itkPointD3 ([75, 75, 75])\n",
      "spacing itkVectorD3 ([160, 160, 160])\n",
      "size itkSize3 ([82, 50, 71])\n",
      "level 5\n",
      "origin itkPointD3 ([155, 155, 155])\n",
      "spacing itkVectorD3 ([320, 320, 320])\n",
      "size itkSize3 ([41, 25, 35])\n"
     ]
    }
   ],
   "source": [
    "# multi-resolution pyramid\n",
    "pyramid = [image_da]\n",
    "reduced = image\n",
    "while not np.all(np.array(itk.size(reduced)) < 64):\n",
    "    level = len(pyramid)\n",
    "    shrink_factors = [2**level]*3\n",
    "    reduced = itk.bin_shrink_image_filter(image, shrink_factors=shrink_factors)\n",
    "    reduced_da = itk.xarray_from_image(reduced)\n",
    "    reduced_da.attrs['units'] = units\n",
    "    print('level', level)\n",
    "    print('origin', itk.origin(reduced))\n",
    "    print('spacing', itk.spacing(reduced))\n",
    "    print('size', itk.size(reduced))\n",
    "    pyramid.append(reduced_da)"
   ]
  },
  {
   "cell_type": "code",
   "execution_count": 10,
   "metadata": {},
   "outputs": [
    {
     "data": {
      "application/vnd.jupyter.widget-view+json": {
       "model_id": "cb2e4e513d1d4f2a80142a318cdf04b6",
       "version_major": 2,
       "version_minor": 0
      },
      "text/plain": [
       "AppLayout(children=(HBox(children=(Label(value='Link:'), Checkbox(value=False, description='cmap'), Checkbox(v…"
      ]
     },
     "metadata": {},
     "output_type": "display_data"
    }
   ],
   "source": [
    "compare(image, itk.image_from_xarray(pyramid[-1]), mode='y', vmax=300)"
   ]
  },
  {
   "cell_type": "code",
   "execution_count": 2,
   "metadata": {},
   "outputs": [],
   "source": [
    "dataset_name = 'allen_ccfv3'\n",
    "store_name = 'allen_ccfv3_average_template_10.zarr'"
   ]
  },
  {
   "cell_type": "code",
   "execution_count": 12,
   "metadata": {},
   "outputs": [
    {
     "data": {
      "text/html": [
       "<pre>&lt;xarray.Dataset&gt;\n",
       "Dimensions:      (x: 1320, y: 800, z: 1140)\n",
       "Coordinates:\n",
       "  * x            (x) float64 0.0 10.0 20.0 ... 1.317e+04 1.318e+04 1.319e+04\n",
       "  * y            (y) float64 0.0 10.0 20.0 30.0 ... 7.97e+03 7.98e+03 7.99e+03\n",
       "  * z            (z) float64 0.0 10.0 20.0 ... 1.137e+04 1.138e+04 1.139e+04\n",
       "Data variables:\n",
       "    allen_ccfv3  (z, y, x) uint16 0 0 0 0 0 0 0 0 0 0 0 ... 0 0 0 0 0 0 0 0 0 0</pre>"
      ],
      "text/plain": [
       "<xarray.Dataset>\n",
       "Dimensions:      (x: 1320, y: 800, z: 1140)\n",
       "Coordinates:\n",
       "  * x            (x) float64 0.0 10.0 20.0 ... 1.317e+04 1.318e+04 1.319e+04\n",
       "  * y            (y) float64 0.0 10.0 20.0 30.0 ... 7.97e+03 7.98e+03 7.99e+03\n",
       "  * z            (z) float64 0.0 10.0 20.0 ... 1.137e+04 1.138e+04 1.139e+04\n",
       "Data variables:\n",
       "    allen_ccfv3  (z, y, x) uint16 0 0 0 0 0 0 0 0 0 0 0 ... 0 0 0 0 0 0 0 0 0 0"
      ]
     },
     "execution_count": 12,
     "metadata": {},
     "output_type": "execute_result"
    }
   ],
   "source": [
    "image_ds = image_da.to_dataset(name=dataset_name)\n",
    "image_ds"
   ]
  },
  {
   "cell_type": "code",
   "execution_count": 5,
   "metadata": {},
   "outputs": [
    {
     "data": {
      "text/plain": [
       "['', 'level_1', 'level_2', 'level_3', 'level_4', 'level_5']"
      ]
     },
     "execution_count": 5,
     "metadata": {},
     "output_type": "execute_result"
    }
   ],
   "source": [
    "pyramid_group_paths = [\"\"]\n",
    "for level in range(1, len(pyramid)):\n",
    "#for level in range(1, 6):\n",
    "    pyramid_group_paths.append('level_{0}'.format(level))\n",
    "pyramid_group_paths"
   ]
  },
  {
   "cell_type": "code",
   "execution_count": 14,
   "metadata": {},
   "outputs": [],
   "source": [
    "store = zarr.DirectoryStore(store_name)\n",
    "\n",
    "# NOSHUFFLE since we will be visualizing with WebAssembly, which does not currently have support for intrinsics\n",
    "blosc.use_threads = False\n",
    "# Crashing (?)\n",
    "# compressor = Blosc(cname='zstd', clevel=5, shuffle=Blosc.NOSHUFFLE)\n",
    "compressor = Blosc(clevel=5, shuffle=Blosc.NOSHUFFLE)\n",
    "chunk_size = 64"
   ]
  },
  {
   "cell_type": "code",
   "execution_count": 15,
   "metadata": {},
   "outputs": [],
   "source": [
    "image_ds.to_zarr(store,\n",
    "                 mode='w',\n",
    "                 compute=True,\n",
    "                 encoding={dataset_name: {'chunks': [chunk_size]*3, 'compressor': compressor}})"
   ]
  },
  {
   "cell_type": "code",
   "execution_count": 17,
   "metadata": {},
   "outputs": [
    {
     "name": "stdout",
     "output_type": "stream",
     "text": [
      "level 1\n",
      "<xarray.Dataset>\n",
      "Dimensions:      (x: 660, y: 400, z: 570)\n",
      "Coordinates:\n",
      "  * x            (x) float64 5.0 25.0 45.0 ... 1.314e+04 1.316e+04 1.318e+04\n",
      "  * y            (y) float64 5.0 25.0 45.0 ... 7.945e+03 7.965e+03 7.985e+03\n",
      "  * z            (z) float64 5.0 25.0 45.0 ... 1.134e+04 1.136e+04 1.138e+04\n",
      "Data variables:\n",
      "    allen_ccfv3  (z, y, x) uint16 1 1 1 1 1 1 1 1 1 1 1 ... 0 0 0 0 0 0 0 0 0 0\n",
      "level 2\n",
      "<xarray.Dataset>\n",
      "Dimensions:      (x: 330, y: 200, z: 285)\n",
      "Coordinates:\n",
      "  * x            (x) float64 15.0 55.0 95.0 ... 1.31e+04 1.314e+04 1.318e+04\n",
      "  * y            (y) float64 15.0 55.0 95.0 ... 7.895e+03 7.935e+03 7.975e+03\n",
      "  * z            (z) float64 15.0 55.0 95.0 ... 1.13e+04 1.134e+04 1.138e+04\n",
      "Data variables:\n",
      "    allen_ccfv3  (z, y, x) uint16 0 0 0 0 0 0 0 0 0 0 0 ... 1 2 2 2 2 2 2 2 2 2\n",
      "level 3\n",
      "<xarray.Dataset>\n",
      "Dimensions:      (x: 165, y: 100, z: 142)\n",
      "Coordinates:\n",
      "  * x            (x) float64 35.0 115.0 195.0 ... 1.3e+04 1.308e+04 1.316e+04\n",
      "  * y            (y) float64 35.0 115.0 195.0 ... 7.795e+03 7.875e+03 7.955e+03\n",
      "  * z            (z) float64 35.0 115.0 195.0 ... 1.116e+04 1.124e+04 1.132e+04\n",
      "Data variables:\n",
      "    allen_ccfv3  (z, y, x) uint16 0 0 0 0 0 0 0 0 0 ... 15 18 21 24 28 32 37 42\n",
      "level 4\n",
      "<xarray.Dataset>\n",
      "Dimensions:      (x: 82, y: 50, z: 71)\n",
      "Coordinates:\n",
      "  * x            (x) float64 75.0 235.0 395.0 ... 1.272e+04 1.288e+04 1.304e+04\n",
      "  * y            (y) float64 75.0 235.0 395.0 ... 7.595e+03 7.755e+03 7.915e+03\n",
      "  * z            (z) float64 75.0 235.0 395.0 ... 1.096e+04 1.112e+04 1.128e+04\n",
      "Data variables:\n",
      "    allen_ccfv3  (z, y, x) uint16 1 0 0 0 128 0 0 0 33696 ... 1 1 1 1 1 1 1 1 1\n",
      "level 5\n",
      "<xarray.Dataset>\n",
      "Dimensions:      (x: 41, y: 25, z: 35)\n",
      "Coordinates:\n",
      "  * x            (x) float64 155.0 475.0 795.0 ... 1.232e+04 1.264e+04 1.296e+04\n",
      "  * y            (y) float64 155.0 475.0 795.0 ... 7.195e+03 7.515e+03 7.835e+03\n",
      "  * z            (z) float64 155.0 475.0 795.0 ... 1.04e+04 1.072e+04 1.104e+04\n",
      "Data variables:\n",
      "    allen_ccfv3  (z, y, x) uint16 0 0 0 0 1 1 1 1 1 1 1 ... 1 1 1 1 1 1 1 1 1 1\n"
     ]
    }
   ],
   "source": [
    "for level in range(1, len(pyramid)):\n",
    "    print('level', level)\n",
    "    ds = pyramid[level].to_dataset(name=dataset_name)\n",
    "    print(ds)\n",
    "    compressor = Blosc(clevel=5, shuffle=Blosc.NOSHUFFLE)\n",
    "    ds.to_zarr(store,\n",
    "               mode='w',\n",
    "               group=pyramid_group_paths[level],\n",
    "               compute=True,\n",
    "               encoding={dataset_name: {'chunks': [chunk_size]*3, 'compressor': compressor}})"
   ]
  },
  {
   "cell_type": "code",
   "execution_count": 18,
   "metadata": {},
   "outputs": [
    {
     "data": {
      "text/plain": [
       "<zarr.hierarchy.Group '/'>"
      ]
     },
     "execution_count": 18,
     "metadata": {},
     "output_type": "execute_result"
    }
   ],
   "source": [
    "# After all modifications to the store are complete, consolidate the metadata so it is 'cloud-ready'.\n",
    "zarr.consolidate_metadata(store)"
   ]
  },
  {
   "cell_type": "code",
   "execution_count": 19,
   "metadata": {},
   "outputs": [],
   "source": [
    "ds = xr.open_zarr(store_name, group='level_3', consolidated=True)"
   ]
  },
  {
   "cell_type": "code",
   "execution_count": 20,
   "metadata": {},
   "outputs": [
    {
     "data": {
      "text/html": [
       "<pre>&lt;xarray.DataArray &#x27;allen_ccfv3&#x27; (z: 142, y: 100, x: 165)&gt;\n",
       "dask.array&lt;zarr, shape=(142, 100, 165), dtype=uint16, chunksize=(64, 64, 64), chunktype=numpy.ndarray&gt;\n",
       "Coordinates:\n",
       "  * x        (x) float64 35.0 115.0 195.0 275.0 ... 1.3e+04 1.308e+04 1.316e+04\n",
       "  * y        (y) float64 35.0 115.0 195.0 ... 7.795e+03 7.875e+03 7.955e+03\n",
       "  * z        (z) float64 35.0 115.0 195.0 ... 1.116e+04 1.124e+04 1.132e+04\n",
       "Attributes:\n",
       "    direction:  [[1.0, 0.0, 0.0], [0.0, 1.0, 0.0], [0.0, 0.0, 1.0]]\n",
       "    units:      μm</pre>"
      ],
      "text/plain": [
       "<xarray.DataArray 'allen_ccfv3' (z: 142, y: 100, x: 165)>\n",
       "dask.array<zarr, shape=(142, 100, 165), dtype=uint16, chunksize=(64, 64, 64), chunktype=numpy.ndarray>\n",
       "Coordinates:\n",
       "  * x        (x) float64 35.0 115.0 195.0 275.0 ... 1.3e+04 1.308e+04 1.316e+04\n",
       "  * y        (y) float64 35.0 115.0 195.0 ... 7.795e+03 7.875e+03 7.955e+03\n",
       "  * z        (z) float64 35.0 115.0 195.0 ... 1.116e+04 1.124e+04 1.132e+04\n",
       "Attributes:\n",
       "    direction:  [[1.0, 0.0, 0.0], [0.0, 1.0, 0.0], [0.0, 0.0, 1.0]]\n",
       "    units:      μm"
      ]
     },
     "execution_count": 20,
     "metadata": {},
     "output_type": "execute_result"
    }
   ],
   "source": [
    "da = ds[dataset_name]\n",
    "da"
   ]
  },
  {
   "cell_type": "code",
   "execution_count": 22,
   "metadata": {},
   "outputs": [
    {
     "data": {
      "application/vnd.jupyter.widget-view+json": {
       "model_id": "2b14be47859e4cc9a6fa76c37b034c8b",
       "version_major": 2,
       "version_minor": 0
      },
      "text/plain": [
       "Viewer(geometries=[], gradient_opacity=0.22, point_sets=[], rendered_image=<itkImagePython.itkImageUS3; proxy …"
      ]
     },
     "metadata": {},
     "output_type": "display_data"
    }
   ],
   "source": [
    "image_level_3 = itk.image_from_xarray(da)\n",
    "view(image_level_3)"
   ]
  },
  {
   "cell_type": "code",
   "execution_count": 6,
   "metadata": {},
   "outputs": [
    {
     "name": "stdout",
     "output_type": "stream",
     "text": [
      "level 1\n",
      "level 2\n",
      "level 3\n",
      "level 4\n",
      "level 5\n"
     ]
    }
   ],
   "source": [
    "for level in range(1, len(pyramid)):\n",
    "#for level in range(1, 6):\n",
    "    print('level', level)\n",
    "    store = zarr.DirectoryStore(store_name + '/' + pyramid_group_paths[level])\n",
    "    # Also consolidate the metadata on the pyramid levels so they can be used independently\n",
    "    zarr.consolidate_metadata(store)"
   ]
  },
  {
   "cell_type": "code",
   "execution_count": null,
   "metadata": {},
   "outputs": [],
   "source": []
  }
 ],
 "metadata": {
  "kernelspec": {
   "display_name": "Python 3",
   "language": "python",
   "name": "python3"
  },
  "language_info": {
   "codemirror_mode": {
    "name": "ipython",
    "version": 3
   },
   "file_extension": ".py",
   "mimetype": "text/x-python",
   "name": "python",
   "nbconvert_exporter": "python",
   "pygments_lexer": "ipython3",
   "version": "3.7.6"
  }
 },
 "nbformat": 4,
 "nbformat_minor": 2
}
